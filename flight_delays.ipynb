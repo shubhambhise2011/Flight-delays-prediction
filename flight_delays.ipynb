{
  "nbformat": 4,
  "nbformat_minor": 0,
  "metadata": {
    "colab": {
      "name": "flight_delays.ipynb",
      "provenance": [],
      "collapsed_sections": []
    },
    "kernelspec": {
      "name": "python3",
      "display_name": "Python 3"
    }
  },
  "cells": [
    {
      "cell_type": "code",
      "metadata": {
        "id": "73fNJE4V8HbA",
        "colab_type": "code",
        "colab": {}
      },
      "source": [
        "import numpy as np\n",
        "import seaborn as sns\n",
        "import matplotlib.pyplot as plt\n",
        "from matplotlib import style\n",
        "style.use(\"ggplot\")\n",
        "from sklearn.cluster import KMeans\n",
        "import pandas as pd\n",
        "df = pd.read_csv(\"FlightDelays.csv\")\n",
        "plt.figure(1)\n",
        "sns.countplot( x= 'Flight Status', data= df)\n",
        "plt.figure(2)\n",
        "sns.countplot( x= 'Flight Status', hue= 'DEST', data= df)\n",
        "plt.figure(3)\n",
        "sns.countplot( x= 'Flight Status', hue = 'DAY_WEEK',data= df)\n",
        "plt.figure(4)\n",
        "sns.countplot( x= 'Flight Status', hue = 'CARRIER',data= df)\n",
        "plt.figure(5)\n",
        "sns.countplot( x= 'Flight Status', hue = 'DAY_OF_MONTH', data= df)\n",
        "plt.figure(6)\n",
        "sns.countplot( x= 'Flight Status',hue = 'ORIGIN', data= df)\n",
        "plt.figure(7)\n",
        "sns.countplot( x= 'Flight Status',hue = 'DISTANCE', data= df)\n"
      ],
      "execution_count": 0,
      "outputs": []
    },
    {
      "cell_type": "code",
      "metadata": {
        "id": "YI0Vm0pi8ilN",
        "colab_type": "code",
        "colab": {}
      },
      "source": [
        "df.info()\n",
        "df.isnull().sum()\n",
        "sns.heatmap(df.isnull(), yticklabels=False, cbar=False)"
      ],
      "execution_count": 0,
      "outputs": []
    },
    {
      "cell_type": "code",
      "metadata": {
        "id": "PZt4mFn68w8p",
        "colab_type": "code",
        "colab": {}
      },
      "source": [
        "import pandas as pd\n",
        "import math\n",
        "import numpy as np\n",
        "import seaborn as sns\n",
        "\n",
        "df = pd.read_csv(\"FlightDelays.csv\")\n",
        "print(df)\n",
        "\n",
        "x = df['CRS_DEP_TIME']\n",
        "y = list(x) \n",
        "s = range(0,len(y))\n",
        "for i in s:\n",
        "  y[i] = math.floor(y[i] / 100)\n",
        "df['CRS_DEP_TIME'] = y\n",
        "sns.countplot(y)\n",
        "print(df)"
      ],
      "execution_count": 0,
      "outputs": []
    },
    {
      "cell_type": "code",
      "metadata": {
        "id": "XoJ8HLsm82cY",
        "colab_type": "code",
        "colab": {}
      },
      "source": [
        "import math\n",
        "import numpy as np\n",
        "import matplotlib.pyplot as plt\n",
        "from matplotlib import style\n",
        "style.use(\"ggplot\")\n",
        "from sklearn.cluster import KMeans\n",
        "from sklearn.metrics import confusion_matrix\n",
        "import pandas as pd\n",
        "df = pd.read_csv(\"FlightDelays.csv\")\n",
        "#print(df)\n",
        "x = df['CRS_DEP_TIME']\n",
        "y = list(x) \n",
        "s = range(0,len(y))\n",
        "for i in s:\n",
        "  y[i] = math.floor(y[i] / 100)\n",
        "df['CRS_DEP_TIME'] = y\n",
        "\n",
        "df['Flight Status'] = df['Flight Status'].apply(lambda x:1 if x == 'delayed' else 0)\n",
        "df = pd.concat([df,pd.get_dummies(df['Weather'],drop_first=True,prefix=\"Weather\")],axis=1)\n",
        "df = pd.concat([df,pd.get_dummies(df['CRS_DEP_TIME'],drop_first=True,prefix=\"CRS_DEP_TIME\")],axis=1)\n",
        "df = pd.concat([df,pd.get_dummies(df['DAY_OF_MONTH'],drop_first=True,prefix=\"DAY_OF_MONTH\")],axis=1)\n",
        "df = pd.concat([df,pd.get_dummies(df['CARRIER'],drop_first=True,prefix=\"CARRIER\")],axis=1)\n",
        "df = pd.concat([df,pd.get_dummies(df['DISTANCE'],drop_first=True,prefix=\"DISTANCE\")],axis=1)\n",
        "df = pd.concat([df,pd.get_dummies(df['DAY_WEEK'],drop_first=True,prefix=\"DAY_WEEK\")],axis=1)\n",
        "#df = pd.concat([df,pd.get_dummies(df['ORIGIN'],drop_first=True,prefix=\"ORIGIN\")],axis=1)\n",
        "#df = pd.concat([df,pd.get_dummies(df['DEST'],drop_first=True,prefix=\"DEST\")],axis=1)\n",
        "\n",
        "df.drop(['Weather','DISTANCE','DAY_WEEK','CARRIER','ORIGIN','CRS_DEP_TIME','DAY_OF_MONTH', 'DEST','DEP_TIME', 'TAIL_NUM','FL_DATE', 'FL_NUM'],axis=1,inplace=True)\n",
        "print(df) \n",
        "from sklearn.model_selection import train_test_split\n",
        "X_train, X_test, y_train, y_test = train_test_split(df.drop(['Flight Status'], axis=1),df['Flight Status'], test_size=0.40)\n",
        "\n",
        "from sklearn.linear_model import LogisticRegression\n",
        "#Train the model\n",
        "logmodel = LogisticRegression(max_iter = 20000)\n",
        "logmodel.fit(X_train,y_train)\n",
        "print('logreg')\n",
        "\n",
        "#Predicting on the Test Set\n",
        "predictions = logmodel.predict(X_test)\n",
        "\n",
        "from sklearn.metrics import classification_report\n",
        "print(classification_report(y_test, predictions))\n",
        "print(confusion_matrix(y_test, predictions))\n",
        "from sklearn.tree import DecisionTreeClassifier\n",
        "clf = DecisionTreeClassifier()\n",
        "clf.fit(X_train, y_train)\n",
        "y_pred_tree = clf.predict(X_test)\n",
        "print('Decision Tree')\n",
        "from sklearn.metrics import classification_report\n",
        "print(classification_report(y_test, y_pred_tree))\n",
        "print(confusion_matrix(y_test, y_pred_tree))"
      ],
      "execution_count": 0,
      "outputs": []
    }
  ]
}